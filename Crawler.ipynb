{
 "cells": [
  {
   "cell_type": "code",
   "execution_count": 1,
   "metadata": {},
   "outputs": [],
   "source": [
    "from selenium import webdriver\n",
    "from selenium.webdriver.common.keys import Keys\n",
    "from bs4 import BeautifulSoup\n",
    "from firebase import firebase\n",
    "import time\n",
    "import pandas as pd\n",
    "import numpy as np"
   ]
  },
  {
   "cell_type": "code",
   "execution_count": 2,
   "metadata": {},
   "outputs": [],
   "source": [
    "firebase = firebase.FirebaseApplication('https://hotelwishlist-86f4f.firebaseio.com/', None)"
   ]
  },
  {
   "cell_type": "code",
   "execution_count": 4,
   "metadata": {},
   "outputs": [],
   "source": [
    "browser = webdriver.Chrome(\"C:\\\\Users\\\\saurabh\\\\Desktop\\\\MMT-Flight\\\\chromedriver.exe\")"
   ]
  },
  {
   "cell_type": "code",
   "execution_count": 5,
   "metadata": {},
   "outputs": [],
   "source": [
    "df = pd.read_csv(r'data/city_codes.csv')"
   ]
  },
  {
   "cell_type": "code",
   "execution_count": 6,
   "metadata": {},
   "outputs": [
    {
     "name": "stdout",
     "output_type": "stream",
     "text": [
      "{'inDate': '08/07/2020', 'location': 'Delhi', 'outDate': '09/07/2020'}\n"
     ]
    }
   ],
   "source": [
    "result = firebase.get('/info/','')\n",
    "values_view = result.values()\n",
    "value_iterator = iter(values_view)\n",
    "first_value = next(value_iterator)\n",
    "print(first_value)"
   ]
  },
  {
   "cell_type": "code",
   "execution_count": 7,
   "metadata": {},
   "outputs": [],
   "source": [
    "#location = 'Delhi'\n",
    "location = first_value['location']\n",
    "location = location.lower().capitalize()\n",
    "locationCode = df['iata_code'][df[df['city'] == location].index.tolist()].tolist()[0]"
   ]
  },
  {
   "cell_type": "code",
   "execution_count": 8,
   "metadata": {},
   "outputs": [],
   "source": [
    "#checkin = '08/07/2020' #dd/mm/yyyy\n",
    "checkin = first_value['inDate']\n",
    "tempDate = checkin.split('/')\n",
    "checkin_url = tempDate[1] + tempDate[0] + tempDate[2]"
   ]
  },
  {
   "cell_type": "code",
   "execution_count": 9,
   "metadata": {},
   "outputs": [],
   "source": [
    "#checkout = '09/07/2020' #dd/mm/yyyy\n",
    "checkout = first_value['outDate']\n",
    "tempDate = checkout.split('/')\n",
    "checkout_url = tempDate[1] + tempDate[0] + tempDate[2]"
   ]
  },
  {
   "cell_type": "code",
   "execution_count": 10,
   "metadata": {},
   "outputs": [],
   "source": [
    "browser.implicitly_wait(20)"
   ]
  },
  {
   "cell_type": "code",
   "execution_count": 11,
   "metadata": {},
   "outputs": [],
   "source": [
    "url = 'https://www.makemytrip.com/hotels/hotel-listing/?checkin=' + checkin_url + '&checkout=' + checkout_url + '&locusId=CT' + locationCode + '&locusType=city&city=CT' + locationCode + '&country=IN&searchText=' + location + '&roomStayQualifier=2e0e&_uCurrency=INR&reference=hotel&type=city'"
   ]
  },
  {
   "cell_type": "code",
   "execution_count": 12,
   "metadata": {},
   "outputs": [],
   "source": [
    "browser.get(url)"
   ]
  },
  {
   "cell_type": "code",
   "execution_count": 13,
   "metadata": {},
   "outputs": [
    {
     "name": "stdout",
     "output_type": "stream",
     "text": [
      "Scrolling document upto bottom ...\n"
     ]
    }
   ],
   "source": [
    "# Scroll the page till bottom to get full data available in the DOM.\n",
    "print (\"Scrolling document upto bottom ...\")\n",
    "for j in range(1, 10):\n",
    "    browser.execute_script(\"window.scrollTo(0, document.body.scrollHeight);\")\n",
    "\n",
    "# Find the document body and get its inner HTML for processing in BeautifulSoup parser.\n",
    "body = browser.find_element_by_tag_name(\"body\").get_attribute(\"innerHTML\")"
   ]
  },
  {
   "cell_type": "code",
   "execution_count": 14,
   "metadata": {},
   "outputs": [
    {
     "name": "stdout",
     "output_type": "stream",
     "text": [
      "Getting data from DOM ...\n"
     ]
    }
   ],
   "source": [
    "print(\"Getting data from DOM ...\")\n",
    "soupBody = BeautifulSoup(body) # Parse the inner HTML using BeautifulSoup"
   ]
  },
  {
   "cell_type": "code",
   "execution_count": 15,
   "metadata": {},
   "outputs": [],
   "source": [
    "pHotelName = soupBody.findAll(\"p\", {\"class\": \"latoBlack font22 blackText appendBottom12\"}) "
   ]
  },
  {
   "cell_type": "code",
   "execution_count": 16,
   "metadata": {},
   "outputs": [],
   "source": [
    "hotelsNameData=[]\n",
    "for j in range(0, len(pHotelName)):\n",
    "    hotelsNameData.append(pHotelName[j].text)"
   ]
  },
  {
   "cell_type": "code",
   "execution_count": 17,
   "metadata": {},
   "outputs": [],
   "source": [
    "pHotelPrice = soupBody.findAll(\"p\", {\"class\": \"latoBlack font26 blackText appendBottom5\"}) "
   ]
  },
  {
   "cell_type": "code",
   "execution_count": 18,
   "metadata": {},
   "outputs": [],
   "source": [
    "hotelsPriceData=[]\n",
    "for j in range(0, len(pHotelPrice)):\n",
    "    hotelsPriceData.append(pHotelPrice[j].text)"
   ]
  },
  {
   "cell_type": "code",
   "execution_count": 19,
   "metadata": {},
   "outputs": [],
   "source": [
    "scraped_data = []\n",
    "\n",
    "for i in range(len(hotelsPriceData)):\n",
    "\n",
    "    # initialize the dictionary\n",
    "    card_details = {}\n",
    "\n",
    "    # add data to the dictionary\n",
    "    card_details['hotel_name'] = hotelsNameData[i]\n",
    "    card_details['room_price'] = hotelsPriceData[i]\n",
    "\n",
    "    # append the scraped data to the list\n",
    "    scraped_data.append(card_details)\n",
    "\n",
    "# create a data frame from the list of dictionaries\n",
    "dataFrame = pd.DataFrame.from_dict(scraped_data)"
   ]
  },
  {
   "cell_type": "code",
   "execution_count": 20,
   "metadata": {},
   "outputs": [],
   "source": [
    "dataFrame.insert(0, 'location', location)\n",
    "dataFrame.insert(0, 'index', range(0, len(dataFrame)))"
   ]
  },
  {
   "cell_type": "code",
   "execution_count": 21,
   "metadata": {},
   "outputs": [
    {
     "data": {
      "text/html": [
       "<div>\n",
       "<style scoped>\n",
       "    .dataframe tbody tr th:only-of-type {\n",
       "        vertical-align: middle;\n",
       "    }\n",
       "\n",
       "    .dataframe tbody tr th {\n",
       "        vertical-align: top;\n",
       "    }\n",
       "\n",
       "    .dataframe thead th {\n",
       "        text-align: right;\n",
       "    }\n",
       "</style>\n",
       "<table border=\"1\" class=\"dataframe\">\n",
       "  <thead>\n",
       "    <tr style=\"text-align: right;\">\n",
       "      <th></th>\n",
       "      <th>index</th>\n",
       "      <th>location</th>\n",
       "      <th>hotel_name</th>\n",
       "      <th>room_price</th>\n",
       "    </tr>\n",
       "  </thead>\n",
       "  <tbody>\n",
       "    <tr>\n",
       "      <td>0</td>\n",
       "      <td>0</td>\n",
       "      <td>Delhi</td>\n",
       "      <td>Red Fox Hotel Delhi Airport</td>\n",
       "      <td>INR2,631</td>\n",
       "    </tr>\n",
       "    <tr>\n",
       "      <td>1</td>\n",
       "      <td>1</td>\n",
       "      <td>Delhi</td>\n",
       "      <td>The Piccadily</td>\n",
       "      <td>INR4,653</td>\n",
       "    </tr>\n",
       "    <tr>\n",
       "      <td>2</td>\n",
       "      <td>2</td>\n",
       "      <td>Delhi</td>\n",
       "      <td>Hotel Aero Star</td>\n",
       "      <td>INR2,251</td>\n",
       "    </tr>\n",
       "    <tr>\n",
       "      <td>3</td>\n",
       "      <td>3</td>\n",
       "      <td>Delhi</td>\n",
       "      <td>The Park New Delhi</td>\n",
       "      <td>INR5,499</td>\n",
       "    </tr>\n",
       "    <tr>\n",
       "      <td>4</td>\n",
       "      <td>4</td>\n",
       "      <td>Delhi</td>\n",
       "      <td>Hotel Arch</td>\n",
       "      <td>INR1,667</td>\n",
       "    </tr>\n",
       "  </tbody>\n",
       "</table>\n",
       "</div>"
      ],
      "text/plain": [
       "   index location                   hotel_name room_price\n",
       "0      0    Delhi  Red Fox Hotel Delhi Airport   INR2,631\n",
       "1      1    Delhi                The Piccadily   INR4,653\n",
       "2      2    Delhi              Hotel Aero Star   INR2,251\n",
       "3      3    Delhi           The Park New Delhi   INR5,499\n",
       "4      4    Delhi                   Hotel Arch   INR1,667"
      ]
     },
     "execution_count": 21,
     "metadata": {},
     "output_type": "execute_result"
    }
   ],
   "source": [
    "dataFrame"
   ]
  },
  {
   "cell_type": "code",
   "execution_count": 22,
   "metadata": {},
   "outputs": [],
   "source": [
    "json_records = dataFrame.to_json(r'result.json',orient ='records') "
   ]
  },
  {
   "cell_type": "code",
   "execution_count": 23,
   "metadata": {},
   "outputs": [
    {
     "name": "stdout",
     "output_type": "stream",
     "text": [
      "[{'index': 0, 'location': 'Delhi', 'hotel_name': 'Red Fox Hotel Delhi Airport', 'room_price': 'INR2,631'}, {'index': 1, 'location': 'Delhi', 'hotel_name': 'The Piccadily', 'room_price': 'INR4,653'}, {'index': 2, 'location': 'Delhi', 'hotel_name': 'Hotel Aero Star', 'room_price': 'INR2,251'}, {'index': 3, 'location': 'Delhi', 'hotel_name': 'The Park New Delhi', 'room_price': 'INR5,499'}, {'index': 4, 'location': 'Delhi', 'hotel_name': 'Hotel Arch', 'room_price': 'INR1,667'}]\n"
     ]
    }
   ],
   "source": [
    "json_records = dataFrame.to_dict(orient ='records')\n",
    "print(json_records)"
   ]
  },
  {
   "cell_type": "code",
   "execution_count": 24,
   "metadata": {},
   "outputs": [
    {
     "name": "stdout",
     "output_type": "stream",
     "text": [
      "{'index': 0, 'location': 'Delhi', 'hotel_name': 'Red Fox Hotel Delhi Airport', 'room_price': 'INR2,631'}\n",
      "{'index': 1, 'location': 'Delhi', 'hotel_name': 'The Piccadily', 'room_price': 'INR4,653'}\n",
      "{'index': 2, 'location': 'Delhi', 'hotel_name': 'Hotel Aero Star', 'room_price': 'INR2,251'}\n",
      "{'index': 3, 'location': 'Delhi', 'hotel_name': 'The Park New Delhi', 'room_price': 'INR5,499'}\n",
      "{'index': 4, 'location': 'Delhi', 'hotel_name': 'Hotel Arch', 'room_price': 'INR1,667'}\n"
     ]
    }
   ],
   "source": [
    "firebase.delete('/hotel/', '')\n",
    "for record in json_records:\n",
    "    print(record)\n",
    "    result = firebase.post('/hotel/',record)"
   ]
  },
  {
   "cell_type": "code",
   "execution_count": 25,
   "metadata": {},
   "outputs": [
    {
     "name": "stdout",
     "output_type": "stream",
     "text": [
      "{'-MBIGLHQUmuEP_g_5txQ': {'hotel_name': 'Red Fox Hotel Delhi Airport', 'index': 0, 'location': 'Delhi', 'room_price': 'INR2,631'}, '-MBIGLc9DA-NBTg-TmOv': {'hotel_name': 'The Piccadily', 'index': 1, 'location': 'Delhi', 'room_price': 'INR4,653'}, '-MBIGLx--8Snavt7oU14': {'hotel_name': 'Hotel Aero Star', 'index': 2, 'location': 'Delhi', 'room_price': 'INR2,251'}, '-MBIGMIWbVv0LBU55PkA': {'hotel_name': 'The Park New Delhi', 'index': 3, 'location': 'Delhi', 'room_price': 'INR5,499'}, '-MBIGMeSDv0cYQmOdp4_': {'hotel_name': 'Hotel Arch', 'index': 4, 'location': 'Delhi', 'room_price': 'INR1,667'}}\n"
     ]
    }
   ],
   "source": [
    "result = firebase.get('/hotel/','')\n",
    "print(result)"
   ]
  },
  {
   "cell_type": "code",
   "execution_count": null,
   "metadata": {},
   "outputs": [],
   "source": []
  }
 ],
 "metadata": {
  "kernelspec": {
   "display_name": "Python 3",
   "language": "python",
   "name": "python3"
  },
  "language_info": {
   "codemirror_mode": {
    "name": "ipython",
    "version": 3
   },
   "file_extension": ".py",
   "mimetype": "text/x-python",
   "name": "python",
   "nbconvert_exporter": "python",
   "pygments_lexer": "ipython3",
   "version": "3.6.9"
  }
 },
 "nbformat": 4,
 "nbformat_minor": 2
}
