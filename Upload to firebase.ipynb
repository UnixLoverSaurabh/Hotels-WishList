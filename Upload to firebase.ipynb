{
 "cells": [
  {
   "cell_type": "code",
   "execution_count": 2,
   "metadata": {},
   "outputs": [],
   "source": [
    "from firebase import firebase"
   ]
  },
  {
   "cell_type": "code",
   "execution_count": 3,
   "metadata": {},
   "outputs": [],
   "source": [
    "firebase = firebase.FirebaseApplication('https://hotelwishlist-86f4f.firebaseio.com/', None)"
   ]
  },
  {
   "cell_type": "code",
   "execution_count": 1,
   "metadata": {},
   "outputs": [
    {
     "name": "stdout",
     "output_type": "stream",
     "text": [
      "{'name': '-MBEnS3aIV2JiRxiTsHw'}\n"
     ]
    }
   ],
   "source": [
    "data =  { 'index': 6, 'location': 'Delhi', 'hotel_name': \"Red Fox Hotel Delhi Airpot\", 'room_price': \"INR2,631\" }\n",
    "result = firebase.post('/hotel/',data)\n",
    "print(result)"
   ]
  },
  {
   "cell_type": "code",
   "execution_count": 4,
   "metadata": {},
   "outputs": [
    {
     "name": "stdout",
     "output_type": "stream",
     "text": [
      "{'0': {'hotel_name': 'Red Fox Hotel Delhi Airpot', 'index': 0, 'location': 'Delhi', 'room_price': 'INR2,631'}, '1': {'hotel_name': 'The Piccadily', 'index': 1, 'location': 'Delhi', 'room_price': 'INR4,550'}, '-MBEe5HptMSPjniw5xv5': '{\"url\": \"url\", \"address\": \"address\", \"name\": \"name\"}', '-MBEePKR_wDwewMINMW3': '{\"url\": \"Ram\", \"address\": \"Gyan\", \"name\": \"Shya\"}', '-MBEmeNwwuqJ1Pgg3A9q': {'Name': 'John Doe', 'Percentage': 70.02, 'RollNo': 3}, '-MBEnFZZ-HOFm-lQGrbz': {'hotel_name': 'Red Fox Hotel Delhi Airpot', 'index': 6, 'location': 'Delhi', 'room_price': 'INR2,631'}, '-MBEnS3aIV2JiRxiTsHw': {'hotel_name': 'Red Fox Hotel Delhi Airpot', 'index': 6, 'location': 'Delhi', 'room_price': 'INR2,631'}}\n"
     ]
    }
   ],
   "source": [
    "result = firebase.get('/hotel/', '')\n",
    "print(result)"
   ]
  },
  {
   "cell_type": "code",
   "execution_count": null,
   "metadata": {},
   "outputs": [],
   "source": []
  }
 ],
 "metadata": {
  "kernelspec": {
   "display_name": "Python 3",
   "language": "python",
   "name": "python3"
  },
  "language_info": {
   "codemirror_mode": {
    "name": "ipython",
    "version": 3
   },
   "file_extension": ".py",
   "mimetype": "text/x-python",
   "name": "python",
   "nbconvert_exporter": "python",
   "pygments_lexer": "ipython3",
   "version": "3.6.9"
  }
 },
 "nbformat": 4,
 "nbformat_minor": 2
}
