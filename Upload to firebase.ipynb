{
 "cells": [
  {
   "cell_type": "code",
   "execution_count": 2,
   "metadata": {},
   "outputs": [],
   "source": [
    "from firebase import firebase"
   ]
  },
  {
   "cell_type": "code",
   "execution_count": 3,
   "metadata": {},
   "outputs": [],
   "source": [
    "firebase = firebase.FirebaseApplication('https://hotelwishlist-86f4f.firebaseio.com/', None)"
   ]
  },
  {
   "cell_type": "code",
   "execution_count": 20,
   "metadata": {},
   "outputs": [
    {
     "name": "stdout",
     "output_type": "stream",
     "text": [
      "{'name': '-MBF9Y_An5OScK9MBiCh'}\n"
     ]
    }
   ],
   "source": [
    "firebase.delete('/hotel/', '')\n",
    "data =  { 'index': 6, 'location': 'Delhi', 'hotel_name': \"Red Fox Hotel Delhi Airpot\", 'room_price': \"INR2,631\" }\n",
    "result = firebase.post('/hotel/',data)\n",
    "print(result)"
   ]
  },
  {
   "cell_type": "code",
   "execution_count": 21,
   "metadata": {},
   "outputs": [
    {
     "name": "stdout",
     "output_type": "stream",
     "text": [
      "{'-MBF9Y_An5OScK9MBiCh': {'hotel_name': 'Red Fox Hotel Delhi Airpot', 'index': 6, 'location': 'Delhi', 'room_price': 'INR2,631'}}\n"
     ]
    }
   ],
   "source": [
    "result = firebase.get('/hotel/', '')\n",
    "print(result)"
   ]
  },
  {
   "cell_type": "code",
   "execution_count": 22,
   "metadata": {},
   "outputs": [
    {
     "name": "stdout",
     "output_type": "stream",
     "text": [
      "{'-MBF2zsYScMOrhESIpET': {'inDate': '08/07/2020', 'location': 'Delhi', 'outDate': '09/07/2020'}, '-MBFNQyHWbgzjkn6NPs1': {'inDate': '2020-07-21', 'location': 'Goa', 'outDate': '2020-07-31'}, '-MBFP3YyAAv6QImdveIr': {'inDate': '2020-07-21', 'location': 'Bom', 'outDate': '2020-07-22'}}\n"
     ]
    }
   ],
   "source": [
    "result = firebase.get('/info/', '')\n",
    "print(result)"
   ]
  },
  {
   "cell_type": "code",
   "execution_count": 13,
   "metadata": {},
   "outputs": [
    {
     "name": "stdout",
     "output_type": "stream",
     "text": [
      "{'name': '-MBF2zsYScMOrhESIpET'}\n"
     ]
    }
   ],
   "source": [
    "firebase.delete('/info/', '')\n",
    "data =  { 'inDate': '08/07/2020', 'location': 'Delhi', 'outDate': '09/07/2020'}\n",
    "result = firebase.post('/info/',data)\n",
    "print(result)"
   ]
  },
  {
   "cell_type": "code",
   "execution_count": 14,
   "metadata": {},
   "outputs": [
    {
     "name": "stdout",
     "output_type": "stream",
     "text": [
      "{'-MBF2zsYScMOrhESIpET': {'inDate': '08/07/2020', 'location': 'Delhi', 'outDate': '09/07/2020'}}\n"
     ]
    }
   ],
   "source": [
    "result1 = firebase.get('/info/', '')\n",
    "print(result1)"
   ]
  },
  {
   "cell_type": "code",
   "execution_count": null,
   "metadata": {},
   "outputs": [],
   "source": []
  }
 ],
 "metadata": {
  "kernelspec": {
   "display_name": "Python 3",
   "language": "python",
   "name": "python3"
  },
  "language_info": {
   "codemirror_mode": {
    "name": "ipython",
    "version": 3
   },
   "file_extension": ".py",
   "mimetype": "text/x-python",
   "name": "python",
   "nbconvert_exporter": "python",
   "pygments_lexer": "ipython3",
   "version": "3.7.3"
  }
 },
 "nbformat": 4,
 "nbformat_minor": 2
}
