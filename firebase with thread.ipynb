{
 "cells": [
  {
   "cell_type": "code",
   "execution_count": 3,
   "metadata": {},
   "outputs": [],
   "source": [
    "from firebase import firebase\n",
    "import concurrent.futures"
   ]
  },
  {
   "cell_type": "code",
   "execution_count": 4,
   "metadata": {},
   "outputs": [],
   "source": [
    "def newRecord(record):\n",
    "    newRes = record[2]\n",
    "    while record[0] == newRes:\n",
    "        firebase = record[1].FirebaseApplication('https://hotelwishlist-86f4f.firebaseio.com/', None)\n",
    "        result = firebase.get('/info', None)\n",
    "\n",
    "        time = {}\n",
    "        for key in result.keys():\n",
    "            # print(result[key], result[key]['primaryKey'])\n",
    "            time[key] = result[key]['primaryKey']\n",
    "\n",
    "        res = {k: v for k, v in sorted(time.items(), key=lambda item: item[1], reverse=True)}\n",
    "\n",
    "        newRes = result[list(res.keys())[0]]\n",
    "    return newRes"
   ]
  },
  {
   "cell_type": "code",
   "execution_count": null,
   "metadata": {},
   "outputs": [
    {
     "name": "stdout",
     "output_type": "stream",
     "text": [
      "{'inDate': '2020-07-03', 'location': 'Mumbai', 'outDate': '2020-07-04', 'primaryKey': '2020-07-03T06:36:10.337Z'}\n",
      "Mumbai 2020-07-03 2020-07-04 2020-07-03T06:36:10.337Z\n"
     ]
    }
   ],
   "source": [
    "with concurrent.futures.ThreadPoolExecutor() as executor:\n",
    "    record = ['', firebase, '']\n",
    "    while True:\n",
    "        record[2] = record[0]\n",
    "        future = executor.submit(newRecord, record)\n",
    "        return_value = future.result()\n",
    "        record[0] = return_value\n",
    "        if(record[0] != record[2]):\n",
    "            # Write every MainCode file here ...\n",
    "            print(record[0])\n",
    "            print(record[0]['location'], record[0]['inDate'], record[0]['outDate'], record[0]['primaryKey'])"
   ]
  },
  {
   "cell_type": "code",
   "execution_count": 5,
   "metadata": {},
   "outputs": [
    {
     "name": "stdout",
     "output_type": "stream",
     "text": [
      "dict_keys(['-MBCbmtoUS_5mr9ZX_yK'])\n"
     ]
    }
   ],
   "source": [
    "firebase = record[1].FirebaseApplication('https://hotelwishlist-86f4f.firebaseio.com/', None)\n",
    "result = firebase.get('/info', None)\n",
    "\n",
    "print(result.keys())"
   ]
  },
  {
   "cell_type": "code",
   "execution_count": 6,
   "metadata": {},
   "outputs": [
    {
     "data": {
      "text/plain": [
       "{'inDate': '', 'location': 'Bang', 'outDate': ''}"
      ]
     },
     "execution_count": 6,
     "metadata": {},
     "output_type": "execute_result"
    }
   ],
   "source": [
    "result['-MBCbmtoUS_5mr9ZX_yK']"
   ]
  },
  {
   "cell_type": "code",
   "execution_count": null,
   "metadata": {},
   "outputs": [],
   "source": []
  }
 ],
 "metadata": {
  "kernelspec": {
   "display_name": "Python 3",
   "language": "python",
   "name": "python3"
  },
  "language_info": {
   "codemirror_mode": {
    "name": "ipython",
    "version": 3
   },
   "file_extension": ".py",
   "mimetype": "text/x-python",
   "name": "python",
   "nbconvert_exporter": "python",
   "pygments_lexer": "ipython3",
   "version": "3.6.9"
  }
 },
 "nbformat": 4,
 "nbformat_minor": 2
}
