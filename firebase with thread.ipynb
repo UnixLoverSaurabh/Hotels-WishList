{
 "cells": [
  {
   "cell_type": "code",
<<<<<<< HEAD
   "execution_count": 2,
=======
   "execution_count": 3,
>>>>>>> 4e1a30a056dbb49756dd298b752d9783fcb53a9f
   "metadata": {},
   "outputs": [],
   "source": [
    "from firebase import firebase\n",
<<<<<<< HEAD
    "import concurrent.futures\n",
    "from selenium import webdriver\n",
    "from selenium.webdriver.common.keys import Keys\n",
    "from bs4 import BeautifulSoup\n",
    "from firebase import firebase\n",
    "import time\n",
    "import pandas as pd\n",
    "import numpy as np"
=======
    "import concurrent.futures"
>>>>>>> 4e1a30a056dbb49756dd298b752d9783fcb53a9f
   ]
  },
  {
   "cell_type": "code",
<<<<<<< HEAD
   "execution_count": null,
=======
   "execution_count": 4,
>>>>>>> 4e1a30a056dbb49756dd298b752d9783fcb53a9f
   "metadata": {},
   "outputs": [],
   "source": [
    "def newRecord(record):\n",
    "    newRes = record[2]\n",
    "    while record[0] == newRes:\n",
<<<<<<< HEAD
    "        firebase_ = firebase.FirebaseApplication('https://hotelwishlist-86f4f.firebaseio.com/', None)\n",
    "        result = firebase_.get('/info', None)\n",
    "\n",
    "        time = {}\n",
    "        for key in result.keys():\n",
    "            #print(result[key], result[key]['primaryKey'])\n",
=======
    "        firebase = record[1].FirebaseApplication('https://hotelwishlist-86f4f.firebaseio.com/', None)\n",
    "        result = firebase.get('/info', None)\n",
    "\n",
    "        time = {}\n",
    "        for key in result.keys():\n",
    "            # print(result[key], result[key]['primaryKey'])\n",
>>>>>>> 4e1a30a056dbb49756dd298b752d9783fcb53a9f
    "            time[key] = result[key]['primaryKey']\n",
    "\n",
    "        res = {k: v for k, v in sorted(time.items(), key=lambda item: item[1], reverse=True)}\n",
    "\n",
    "        newRes = result[list(res.keys())[0]]\n",
    "    return newRes"
   ]
  },
  {
   "cell_type": "code",
<<<<<<< HEAD
   "execution_count": 1,
   "metadata": {},
   "outputs": [
    {
     "ename": "NameError",
     "evalue": "name 'concurrent' is not defined",
     "traceback": [
      "\u001b[0;31m---------------------------------------------------------------------------\u001b[0m",
      "\u001b[0;31mNameError\u001b[0m                                 Traceback (most recent call last)",
      "\u001b[0;32m<ipython-input-1-24af5abb8162>\u001b[0m in \u001b[0;36m<module>\u001b[0;34m()\u001b[0m\n\u001b[0;32m----> 1\u001b[0;31m \u001b[0;32mwith\u001b[0m \u001b[0mconcurrent\u001b[0m\u001b[0;34m.\u001b[0m\u001b[0mfutures\u001b[0m\u001b[0;34m.\u001b[0m\u001b[0mThreadPoolExecutor\u001b[0m\u001b[0;34m(\u001b[0m\u001b[0;34m)\u001b[0m \u001b[0;32mas\u001b[0m \u001b[0mexecutor\u001b[0m\u001b[0;34m:\u001b[0m\u001b[0;34m\u001b[0m\u001b[0m\n\u001b[0m\u001b[1;32m      2\u001b[0m     \u001b[0mrecord\u001b[0m \u001b[0;34m=\u001b[0m \u001b[0;34m[\u001b[0m\u001b[0;34m''\u001b[0m\u001b[0;34m,\u001b[0m \u001b[0mfirebase\u001b[0m\u001b[0;34m,\u001b[0m \u001b[0;34m''\u001b[0m\u001b[0;34m]\u001b[0m\u001b[0;34m\u001b[0m\u001b[0m\n\u001b[1;32m      3\u001b[0m     \u001b[0;32mwhile\u001b[0m \u001b[0;32mTrue\u001b[0m\u001b[0;34m:\u001b[0m\u001b[0;34m\u001b[0m\u001b[0m\n\u001b[1;32m      4\u001b[0m         \u001b[0mrecord\u001b[0m\u001b[0;34m[\u001b[0m\u001b[0;36m2\u001b[0m\u001b[0;34m]\u001b[0m \u001b[0;34m=\u001b[0m \u001b[0mrecord\u001b[0m\u001b[0;34m[\u001b[0m\u001b[0;36m0\u001b[0m\u001b[0;34m]\u001b[0m\u001b[0;34m\u001b[0m\u001b[0m\n\u001b[1;32m      5\u001b[0m         \u001b[0mfuture\u001b[0m \u001b[0;34m=\u001b[0m \u001b[0mexecutor\u001b[0m\u001b[0;34m.\u001b[0m\u001b[0msubmit\u001b[0m\u001b[0;34m(\u001b[0m\u001b[0mnewRecord\u001b[0m\u001b[0;34m,\u001b[0m \u001b[0mrecord\u001b[0m\u001b[0;34m)\u001b[0m\u001b[0;34m\u001b[0m\u001b[0m\n",
      "\u001b[0;31mNameError\u001b[0m: name 'concurrent' is not defined"
     ],
     "output_type": "error"
=======
   "execution_count": null,
   "metadata": {},
   "outputs": [
    {
     "name": "stdout",
     "output_type": "stream",
     "text": [
      "{'inDate': '2020-07-03', 'location': 'Mumbai', 'outDate': '2020-07-04', 'primaryKey': '2020-07-03T06:36:10.337Z'}\n",
      "Mumbai 2020-07-03 2020-07-04 2020-07-03T06:36:10.337Z\n"
     ]
>>>>>>> 4e1a30a056dbb49756dd298b752d9783fcb53a9f
    }
   ],
   "source": [
    "with concurrent.futures.ThreadPoolExecutor() as executor:\n",
    "    record = ['', firebase, '']\n",
    "    while True:\n",
    "        record[2] = record[0]\n",
    "        future = executor.submit(newRecord, record)\n",
    "        return_value = future.result()\n",
<<<<<<< HEAD
    "        #print(return_value)\n",
    "        record[0] = return_value\n",
    "        if(record[0] != record[2]):\n",
    "            # Write every MainCode file here ...\n",
    "            #print(record[0])\n",
    "            #print(record[0]['source'], record[0]['destination'], record[0]['inDate'], record[0]['primaryKey'])\n",
    "            browser = webdriver.Chrome(\"C:\\\\Users\\\\Snehal\\\\PycharmProjects\\\\RL\\\\Solve-for-tomorrow\\\\chromedriver.exe\")\n",
    "            df = pd.read_csv(r'data/city_codes.csv')\n",
    "            #location = 'Delhi'\n",
    "            location = record[0]['location']\n",
    "            location = location.lower().capitalize()\n",
    "            locationCode = df['iata_code'][df[df['city'] == location].index.tolist()].tolist()[0]\n",
    "            #checkin = '08/07/2020' #dd/mm/yyyy\n",
    "            checkin = record[0]['inDate']\n",
    "            tempDate = checkin.split('-')\n",
    "            checkin_url = tempDate[1] + tempDate[2] + tempDate[0]\n",
    "            #checkout = '09/07/2020' #dd/mm/yyyy\n",
    "            checkout = record[0]['outDate']\n",
    "            tempDate = checkout.split('-')\n",
    "            checkout_url = tempDate[1] + tempDate[2] + tempDate[0]\n",
    "            browser.implicitly_wait(20)\n",
    "            url = 'https://www.makemytrip.com/hotels/hotel-listing/?checkin=' + checkin_url + '&checkout=' + checkout_url + '&locusId=CT' + locationCode + '&locusType=city&city=CT' + locationCode + '&country=IN&searchText=' + location + '&roomStayQualifier=2e0e&_uCurrency=INR&reference=hotel&type=city'\n",
    "            browser.get(url)\n",
    "            # Scroll the page till bottom to get full data available in the DOM.\n",
    "            print (\"Scrolling document upto bottom ...\")\n",
    "            for j in range(1, 10):\n",
    "                browser.execute_script(\"window.scrollTo(0, document.body.scrollHeight);\")\n",
    "            # Find the document body and get its inner HTML for processing in BeautifulSoup parser.\n",
    "            body = browser.find_element_by_tag_name(\"body\").get_attribute(\"innerHTML\")\n",
    "            print(\"Getting data from DOM ...\")\n",
    "            soupBody = BeautifulSoup(body) # Parse the inner HTML using BeautifulSoup\n",
    "            pHotelName = soupBody.findAll(\"p\", {\"class\": \"latoBlack font22 blackText appendBottom12\"}) \n",
    "            hotelsNameData=[]\n",
    "            for j in range(0, len(pHotelName)):\n",
    "                hotelsNameData.append(pHotelName[j].text)\n",
    "            pHotelPrice = soupBody.findAll(\"p\", {\"class\": \"latoBlack font26 blackText appendBottom5\"}) \n",
    "            hotelsPriceData=[]\n",
    "            for j in range(0, len(pHotelPrice)):\n",
    "                hotelsPriceData.append(pHotelPrice[j].text)\n",
    "            scraped_data = []\n",
    "            for i in range(len(hotelsPriceData)):\n",
    "                # initialize the dictionary\n",
    "                card_details = {}\n",
    "                # add data to the dictionary\n",
    "                card_details['hotel_name'] = hotelsNameData[i]\n",
    "                card_details['room_price'] = hotelsPriceData[i]\n",
    "                # append the scraped data to the list\n",
    "                scraped_data.append(card_details)\n",
    "                # create a data frame from the list of dictionaries\n",
    "            dataFrame = pd.DataFrame.from_dict(scraped_data)\n",
    "            dataFrame.insert(0, 'location', location)\n",
    "            dataFrame.insert(0, 'index', range(0, len(dataFrame)))\n",
    "            print(dataFrame)\n",
    "            json_records = dataFrame.to_json(r'result.json',orient ='records') \n",
    "            json_records = dataFrame.to_dict(orient ='records')\n",
    "            print(json_records)\n",
    "            firebase_ = firebase.FirebaseApplication('https://hotelwishlist-86f4f.firebaseio.com/', None)\n",
    "            firebase_.delete('/hotel/', '')\n",
    "            for record_ in json_records:\n",
    "                print(record_)\n",
    "                result = firebase_.post('/hotel/',record_)\n",
    "            \n",
    "            \n",
    "            "
=======
    "        record[0] = return_value\n",
    "        if(record[0] != record[2]):\n",
    "            # Write every MainCode file here ...\n",
    "            print(record[0])\n",
    "            print(record[0]['location'], record[0]['inDate'], record[0]['outDate'], record[0]['primaryKey'])"
   ]
  },
  {
   "cell_type": "code",
   "execution_count": 5,
   "metadata": {},
   "outputs": [
    {
     "name": "stdout",
     "output_type": "stream",
     "text": [
      "dict_keys(['-MBCbmtoUS_5mr9ZX_yK'])\n"
     ]
    }
   ],
   "source": [
    "firebase = record[1].FirebaseApplication('https://hotelwishlist-86f4f.firebaseio.com/', None)\n",
    "result = firebase.get('/info', None)\n",
    "\n",
    "print(result.keys())"
   ]
  },
  {
   "cell_type": "code",
   "execution_count": 6,
   "metadata": {},
   "outputs": [
    {
     "data": {
      "text/plain": [
       "{'inDate': '', 'location': 'Bang', 'outDate': ''}"
      ]
     },
     "execution_count": 6,
     "metadata": {},
     "output_type": "execute_result"
    }
   ],
   "source": [
    "result['-MBCbmtoUS_5mr9ZX_yK']"
>>>>>>> 4e1a30a056dbb49756dd298b752d9783fcb53a9f
   ]
  },
  {
   "cell_type": "code",
   "execution_count": null,
   "metadata": {},
   "outputs": [],
   "source": []
  }
 ],
 "metadata": {
  "kernelspec": {
   "display_name": "Python 3",
   "language": "python",
   "name": "python3"
<<<<<<< HEAD
=======
  },
  "language_info": {
   "codemirror_mode": {
    "name": "ipython",
    "version": 3
   },
   "file_extension": ".py",
   "mimetype": "text/x-python",
   "name": "python",
   "nbconvert_exporter": "python",
   "pygments_lexer": "ipython3",
   "version": "3.6.9"
>>>>>>> 4e1a30a056dbb49756dd298b752d9783fcb53a9f
  }
 },
 "nbformat": 4,
 "nbformat_minor": 2
}
